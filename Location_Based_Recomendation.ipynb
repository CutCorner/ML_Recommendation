{
  "nbformat": 4,
  "nbformat_minor": 0,
  "metadata": {
    "colab": {
      "provenance": []
    },
    "kernelspec": {
      "name": "python3",
      "display_name": "Python 3"
    },
    "language_info": {
      "name": "python"
    }
  },
  "cells": [
    {
      "cell_type": "code",
      "source": [
        "import pandas as pd\n",
        "\n",
        "# Memuat dataset\n",
        "path = \"https://raw.githubusercontent.com/CutCorner/ML_Recommendation/main/BarbershopSurabaya.csv\"\n",
        "df = pd.read_csv(path)\n"
      ],
      "metadata": {
        "id": "GPs1nj3fiCjR"
      },
      "execution_count": null,
      "outputs": []
    },
    {
      "cell_type": "code",
      "source": [
        "from google.colab import drive\n",
        "# Mount Google Drive ke Colab\n",
        "drive.mount('/content/drive')\n"
      ],
      "metadata": {
        "colab": {
          "base_uri": "https://localhost:8080/"
        },
        "id": "b71WhJQFfABA",
        "outputId": "760aaa47-0acd-4255-ccce-d57d9cd85172"
      },
      "execution_count": null,
      "outputs": [
        {
          "output_type": "stream",
          "name": "stdout",
          "text": [
            "Mounted at /content/drive\n"
          ]
        }
      ]
    },
    {
      "cell_type": "code",
      "source": [
        "print(df.dtypes)"
      ],
      "metadata": {
        "colab": {
          "base_uri": "https://localhost:8080/"
        },
        "id": "XQNelClUJ6Vr",
        "outputId": "868699ec-bd4b-4fd7-e32b-55e294b8eb24"
      },
      "execution_count": null,
      "outputs": [
        {
          "output_type": "stream",
          "name": "stdout",
          "text": [
            "index               int64\n",
            "Place_name         object\n",
            "Address            object\n",
            "Hours              object\n",
            "Phone             float64\n",
            "emails             object\n",
            "Reviewscount        int64\n",
            "Rating            float64\n",
            "Category           object\n",
            "Latitude          float64\n",
            "Longitude         float64\n",
            "Place_id           object\n",
            "Featured_Image     object\n",
            "dtype: object\n"
          ]
        }
      ]
    },
    {
      "cell_type": "code",
      "source": [
        "from math import radians, cos, sin, sqrt, atan2\n",
        "\n",
        "def haversine(lat1, lon1, lat2, lon2):\n",
        "    R = 6371.0  # Radius bumi dalam kilometer\n",
        "\n",
        "    dlat = radians(lat2 - lat1)\n",
        "    dlon = radians(lon2 - lon1)\n",
        "    a = sin(dlat / 2)**2 + cos(radians(lat1)) * cos(radians(lat2)) * sin(dlon / 2)**2\n",
        "    c = 2 * atan2(sqrt(a), sqrt(1 - a))\n",
        "\n",
        "    distance = R * c\n",
        "    return distance\n"
      ],
      "metadata": {
        "id": "Cz5GctxJiWu0"
      },
      "execution_count": null,
      "outputs": []
    },
    {
      "cell_type": "code",
      "source": [
        "def recommend_places(current_lat, current_lon, k=5):\n",
        "    recommendations = []\n",
        "\n",
        "    for index, row in df.iterrows():\n",
        "        distance = haversine(current_lat, current_lon, row['Latitude'], row['Longitude'])\n",
        "        recommendations.append((row['Place_name'], row['Address'], distance, row['Rating']))\n",
        "\n",
        "    # Sort by distance first and then by rating\n",
        "    recommendations = sorted(recommendations, key=lambda x: (x[2], -x[3]))\n",
        "\n",
        "    # Return the top k recommendations\n",
        "    return recommendations[:k]\n",
        "\n",
        "\n",
        "    return recommended_places\n",
        "\n"
      ],
      "metadata": {
        "id": "HNlfdjVziYaN"
      },
      "execution_count": null,
      "outputs": []
    },
    {
      "cell_type": "code",
      "source": [
        "# Contoh penggunaan krembangan\n",
        "current_lat = -7.2301486 # Latitude saat ini\n",
        "current_lon = 112.7241509  # Longitude saat ini\n",
        "\n",
        "recommended_places = recommend_places(current_lat, current_lon, k=9)\n",
        "for place in recommended_places:\n",
        "    print(f\"Place: {place[0]}, Address: {place[1]}, Distance: {place[2]:.2f} km, Rating: {place[3]}\")\n"
      ],
      "metadata": {
        "colab": {
          "base_uri": "https://localhost:8080/"
        },
        "id": "Ocefjyhjivwx",
        "outputId": "c467715a-9a42-4757-ade6-64f1ec735e44"
      },
      "execution_count": null,
      "outputs": [
        {
          "output_type": "stream",
          "name": "stdout",
          "text": [
            "Place: Surabaya Barbershop, Address: Jl. Gadukan Rukun No.29-37, Morokrembangan, Kec. Krembangan, Surabaya, Jawa Timur 60178, Distance: 0.41 km, Rating: 4.4\n",
            "Place: The Woods Barbershop, Address: Jl. Ikan Mungsing No.18, Perak Bar., Kec. Krembangan, Surabaya, Jawa Timur 60177, Distance: 0.49 km, Rating: 4.4\n",
            "Place: Klimis-Man Barbershop, Address: Jl. Sedayu, Morokrembangan, Kec. Krembangan, Surabaya, Jawa Timur 60178, Distance: 0.52 km, Rating: 5.0\n",
            "Place: Julian Barbershop Surabaya, Address: Jl. Sedayu No.5, Morokrembangan, Kec. Krembangan, Surabaya, Jawa Timur 60178, Distance: 0.56 km, Rating: 4.3\n",
            "Place: Potong Rambut Citra, Address: Jl. Dupak Bangunsari Tengah No.7, Dupak, Kec. Krembangan, Surabaya, Jawa Timur 60176, Distance: 1.16 km, Rating: 4.6\n",
            "Place: Corner Barbershop, Address: Jl. Kalimas Baru No.15, Perak Tim., Kec. Pabean Cantikan, Surabaya, Jawa Timur 60164, Distance: 1.52 km, Rating: 4.5\n",
            "Place: Ganteng Barbershop, Address: Jl. Jakarta No.2, Perak Utara, Kec. Pabean Cantikan, Surabaya, Jawa Timur 60165, Distance: 1.71 km, Rating: 4.4\n",
            "Place: Shin Hua Barbershop, Address: Jl. Kembang Jepun Jl. Nyamplungan No.58, RT.003/RW.05, Nyamplungan, Kec. Pabean Cantikan, Surabaya, Jawa Timur 60162, Distance: 2.24 km, Rating: 4.8\n",
            "Place: ALADEEN BARBERSHOP, Address: Danakarya No No.35, Ujung, Kec. Semampir, Surabaya, Jawa Timur 60155, Distance: 2.36 km, Rating: 4.6\n"
          ]
        }
      ]
    },
    {
      "cell_type": "code",
      "source": [
        "# Contoh penggunaan benowo\n",
        "current_lat = -7.2264879 # Latitude saat ini\n",
        "current_lon = 112.649662 # Longitude saat ini\n",
        "\n",
        "recommended_places = recommend_places(current_lat, current_lon, k=5)\n",
        "for place in recommended_places:\n",
        "    print(f\"Place: {place[0]}, Address: {place[1]}, Distance: {place[2]:.2f} km\")\n"
      ],
      "metadata": {
        "colab": {
          "base_uri": "https://localhost:8080/"
        },
        "id": "Xon3yHuhiyDR",
        "outputId": "d9e2150d-012b-4007-872a-d60094e37a4c"
      },
      "execution_count": null,
      "outputs": [
        {
          "output_type": "stream",
          "name": "stdout",
          "text": [
            "Place: Star Barbershop, Address: Jl. Pd. Benowo Indah No.35, Babat Jerawat, Kec. Benowo, Surabaya, Jawa Timur 60197, Distance: 2.60 km\n",
            "Place: The Xaquille Barbershop, Address: QJ5H+XHQ, Babat Jerawat, Kec. Pakal, Surabaya, Jawa Timur, Distance: 2.73 km\n",
            "Place: Sabian Barber Soccer, Address: Jl. Pertokoan Jl. Pd. Benowo Indah No.A6, Babat Jerawat, Kec. Pakal, Surabaya, Jawa Timur 60196, Distance: 2.85 km\n",
            "Place: Potong rambut Alif, Address: Jl. Bandarejo Sawah No.19, Sememi, Kec. Benowo, Surabaya, Jawa Timur 60198, Distance: 2.88 km\n",
            "Place: Mopen barbershop, Address: Jl. Raya Klakah Rejo No.1 No.15, Kandangan, Kec. Benowo, Surabaya, Jawa Timur 60198, Distance: 2.92 km\n"
          ]
        }
      ]
    },
    {
      "cell_type": "code",
      "source": [
        "# Contoh penggunaan jakarta\n",
        "current_lat = -6.200000  # Latitude saat ini\n",
        "current_lon = 106.816666  # Longitude saat ini\n",
        "\n",
        "recommended_places = recommend_places(current_lat, current_lon, k=5)\n",
        "for place in recommended_places:\n",
        "    print(f\"Place: {place[0]}, Address: {place[1]}, Distance: {place[2]:.2f} km\")\n"
      ],
      "metadata": {
        "colab": {
          "base_uri": "https://localhost:8080/"
        },
        "id": "YHs0ZZC9rQLR",
        "outputId": "8daebf3d-ca1f-4919-f38f-88a96719a7f1"
      },
      "execution_count": null,
      "outputs": [
        {
          "output_type": "stream",
          "name": "stdout",
          "text": [
            "Place: Champs Barbershop, Address: Jl. Kb. Kacang 9 No.31, RT.2/RW.3, Kb. Kacang, Kecamatan Tanah Abang, Kota Jakarta Pusat, Daerah Khusus Ibukota Jakarta 10240, Distance: 1.10 km\n",
            "Place: Di Bawah Pohon Barber & Shop, Address: Jl. H. Agus Salim No.60,Menteng, RT.8/RW.4, Gondangdia, jakarta, Kota Jakarta Pusat, Daerah Khusus Ibukota Jakarta 10350, Distance: 1.61 km\n",
            "Place: CitiCuts Barbershop, Address: Jl. H. Agus Salim No.60A, RT.8/RW.4, Gondangdia, Kec. Menteng, Kota Jakarta Pusat, Daerah Khusus Ibukota Jakarta 10350, Distance: 1.61 km\n",
            "Place: Marco's Chop Shop Barbershop - Sari Pacific Jakarta, Address: Jl. M.H. Thamrin No.6, RW.1, Kb. Sirih, Kec. Menteng, Kota Jakarta Pusat, Daerah Khusus Ibukota Jakarta 10340, Distance: 1.78 km\n",
            "Place: Luxe Barbershop, Address: Jl. H. Agus Salim No.23a 1, RT.2/RW.1, sabang, Jakarta, Kota Jakarta Pusat, Daerah Khusus Ibukota Jakarta 10350, Distance: 2.02 km\n"
          ]
        }
      ]
    },
    {
      "cell_type": "code",
      "source": [
        "import joblib\n",
        "joblib.dump(df, 'barbershop_dataset.pkl')\n",
        "joblib.dump(recommend_places, 'recommend_barbershop.pkl')"
      ],
      "metadata": {
        "id": "KvNq9mlXi0ET",
        "outputId": "58041c10-c2dc-470a-fd3c-aa173a55ecce",
        "colab": {
          "base_uri": "https://localhost:8080/"
        }
      },
      "execution_count": null,
      "outputs": [
        {
          "output_type": "execute_result",
          "data": {
            "text/plain": [
              "['recommend_barbershop.pkl']"
            ]
          },
          "metadata": {},
          "execution_count": 19
        }
      ]
    }
  ]
}